{
    "cells": [
        {
            "metadata": {
                "collapsed": true
            },
            "cell_type": "markdown",
            "source": "## Business Problem\n\nChina is a developing country with rapid economic growth, which lead to a high speed pace of life. ShangHai, as the economic center of China, people live here always face high  pressure form their career. This fast pace of life and high pressure cause most white-collaris give up traditional Chinese breakst, which is slow pace. More and more people start to having coffee and dessert as their breakfast, so coffee shop is a great business oppurinty in ShangHai, as long as owner open the coffee shop at right place. Using data science to analysis and cluster coffee shop to find the best location is best way for owner, this will save both money and time. We will use data to make the decision on the place that is the most convenient for your new business.\n\nWith the data, we will see all the coffee shops in Shanghai with a Map. Once we have the map, we will make a conclusion for the best new location to open a coffee shop.  \n\n\n\nWith the business problem well defined the next factors are crucial:\n\n    Number of existing coffee shops in Shanghai\n    Number of existing coffee shops in neighborhood\n    Number of office building in Shanghai\n\nData sources where we will extract information\n\n    To get the center of Mexico City I will use Wikipedia information\n    Coffee shops in Mexico City from Foursqueare AP"
        },
        {
            "metadata": {},
            "cell_type": "code",
            "source": "",
            "execution_count": null,
            "outputs": []
        }
    ],
    "metadata": {
        "kernelspec": {
            "name": "python3",
            "display_name": "Python 3.6",
            "language": "python"
        },
        "language_info": {
            "name": "python",
            "version": "3.6.9",
            "mimetype": "text/x-python",
            "codemirror_mode": {
                "name": "ipython",
                "version": 3
            },
            "pygments_lexer": "ipython3",
            "nbconvert_exporter": "python",
            "file_extension": ".py"
        }
    },
    "nbformat": 4,
    "nbformat_minor": 1
}